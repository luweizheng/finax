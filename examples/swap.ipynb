{
 "cells": [
  {
   "cell_type": "code",
   "execution_count": 2,
   "metadata": {},
   "outputs": [],
   "source": [
    "import numpy as np\n",
    "import jax.numpy as jnp\n",
    "import jax_quant_finance as jqf\n",
    "from jax.config import config\n",
    "config.update(\"jax_enable_x64\", True)"
   ]
  },
  {
   "cell_type": "code",
   "execution_count": 3,
   "metadata": {},
   "outputs": [],
   "source": [
    "dtype = jnp.float64"
   ]
  },
  {
   "cell_type": "code",
   "execution_count": 4,
   "metadata": {},
   "outputs": [
    {
     "name": "stdout",
     "output_type": "stream",
     "text": [
      "equity leg cash flows pv: [1000.01   909.1   1666.675]\n"
     ]
    }
   ],
   "source": [
    "# no batch\n",
    "# equity_leg_cashflows\n",
    "notional = 10000\n",
    "forward_prices = [110, 120, 140]\n",
    "spots = 100\n",
    "dividends = [1,1,1]\n",
    "\n",
    "actual_pv  = jqf.rates.analytics.swap.equity_leg_cashflows(\n",
    "            forward_prices=forward_prices,\n",
    "            spots=spots,\n",
    "            notional=notional,\n",
    "            dividends=dividends,\n",
    "            dtype=dtype)\n",
    "\n",
    "print(f\"equity leg cash flows pv: {actual_pv}\")"
   ]
  },
  {
   "cell_type": "code",
   "execution_count": 5,
   "metadata": {},
   "outputs": [
    {
     "name": "stdout",
     "output_type": "stream",
     "text": [
      "rate leg cashflows pv: [100. 100. 100.]\n"
     ]
    }
   ],
   "source": [
    "# no batch\n",
    "# rate_leg_cashflows\n",
    "notional = 1000\n",
    "coupon_rates = 0.1\n",
    "daycount_fractions = [1,1,1]\n",
    "\n",
    "actual_pv = jqf.rates.analytics.swap.rate_leg_cashflows(\n",
    "            coupon_rates=coupon_rates,\n",
    "            daycount_fractions=daycount_fractions,\n",
    "            notional=notional,\n",
    "            dtype=dtype)\n",
    "\n",
    "print(f\"rate leg cashflows pv: {actual_pv}\")\n"
   ]
  },
  {
   "cell_type": "code",
   "execution_count": 6,
   "metadata": {},
   "outputs": [
    {
     "name": "stdout",
     "output_type": "stream",
     "text": [
      "swap price: 615.0\n"
     ]
    }
   ],
   "source": [
    "# no batch\n",
    "# swap price\n",
    "pay_leg_cashflows = [100,100,100]\n",
    "receive_leg_cashflows = [200, 250, 300, 300]\n",
    "pay_leg_discount_factors = [0.95, 0.9, 0.8]\n",
    "receive_leg_discount_factors = [0.95, 0.9, 0.8, 0.75]\n",
    "\n",
    "\n",
    "actual_pv = jqf.rates.analytics.swap.swap_price(\n",
    "        pay_leg_cashflows=pay_leg_cashflows,\n",
    "        receive_leg_cashflows=receive_leg_cashflows,\n",
    "        pay_leg_discount_factors=pay_leg_discount_factors,\n",
    "        receive_leg_discount_factors=receive_leg_discount_factors,\n",
    "        dtype=dtype)\n",
    "\n",
    "print(f\"swap price: {actual_pv}\")"
   ]
  }
 ],
 "metadata": {
  "interpreter": {
   "hash": "d4d1e4263499bec80672ea0156c357c1ee493ec2b1c70f0acce89fc37c4a6abe"
  },
  "kernelspec": {
   "display_name": "Python 3.7.3 ('base')",
   "language": "python",
   "name": "python3"
  },
  "language_info": {
   "codemirror_mode": {
    "name": "ipython",
    "version": 3
   },
   "file_extension": ".py",
   "mimetype": "text/x-python",
   "name": "python",
   "nbconvert_exporter": "python",
   "pygments_lexer": "ipython3",
   "version": "3.7.3"
  },
  "orig_nbformat": 4
 },
 "nbformat": 4,
 "nbformat_minor": 2
}
