{
 "cells": [
  {
   "cell_type": "code",
   "execution_count": 6,
   "metadata": {},
   "outputs": [],
   "source": [
    "from jax.config import config\n",
    "config.update(\"jax_enable_x64\", True)\n",
    "import numpy as np\n",
    "import jax.numpy as jnp\n",
    "import jax_quant_finance as jqf\n",
    "import jax.scipy.stats as stats"
   ]
  },
  {
   "cell_type": "code",
   "execution_count": 4,
   "metadata": {},
   "outputs": [],
   "source": [
    "dtype = jnp.float64"
   ]
  },
  {
   "cell_type": "code",
   "execution_count": 2,
   "metadata": {},
   "outputs": [
    {
     "name": "stdout",
     "output_type": "stream",
     "text": [
      "[0.         2.         2.04806848 1.00020297 2.07303131]\n"
     ]
    }
   ],
   "source": [
    "# Vanilla Black Scholes\n",
    "forwards = np.array([1.0, 2.0, 3.0, 4.0, 5.0])\n",
    "strikes = np.array([3.0, 3.0, 3.0, 3.0, 3.0])\n",
    "volatilities = np.array([0.0001, 102.0, 2.0, 0.1, 0.4])\n",
    "expiries = 1.0\n",
    "computed_prices = jqf.black_scholes.option_price(\n",
    "        volatilities=volatilities,\n",
    "        strikes=strikes,\n",
    "        expiries=expiries,\n",
    "        forwards=forwards)\n",
    "print(computed_prices)"
   ]
  },
  {
   "cell_type": "code",
   "execution_count": 3,
   "metadata": {},
   "outputs": [
    {
     "name": "stdout",
     "output_type": "stream",
     "text": [
      "[0.00000000e+00 7.47456025e-28 3.98942280e-03 1.99471140e-03\n",
      " 2.16663094e-02]\n"
     ]
    }
   ],
   "source": [
    "# Option Pricing Normal Model\n",
    "forwards = np.array([0.01, 0.02, 0.03, 0.03, 0.05])\n",
    "strikes = np.array([0.03, 0.03, 0.03, 0.03, 0.03])\n",
    "volatilities = np.array([0.0001, 0.001, 0.01, 0.005, 0.02])\n",
    "expiries = 1.0\n",
    "computed_prices = jqf.black_scholes.option_price(\n",
    "        volatilities=volatilities,\n",
    "        strikes=strikes,\n",
    "        expiries=expiries,\n",
    "        forwards=forwards,\n",
    "        is_normal_volatility=True)\n",
    "\n",
    "print(computed_prices)"
   ]
  },
  {
   "cell_type": "code",
   "execution_count": 5,
   "metadata": {},
   "outputs": [
    {
     "name": "stdout",
     "output_type": "stream",
     "text": [
      "[ 0.02909021  0.5699856   3.4211088   9.84695715 18.61802275 20.41331485\n",
      " 11.24975491  4.39642278  1.11781579  0.18442606]\n"
     ]
    }
   ],
   "source": [
    "# option prices detailed discount\n",
    "spots = np.array([80.0, 90.0, 100.0, 110.0, 120.0] * 2)\n",
    "strikes = np.array([100.0] * 10)\n",
    "discount_rates = 0.08\n",
    "volatilities = 0.2\n",
    "expiries = 0.25\n",
    "\n",
    "is_call_options = np.array([True] * 5 + [False] * 5)\n",
    "dividend_rates = 0.12\n",
    "computed_prices = jqf.black_scholes.option_price(\n",
    "        volatilities=volatilities,\n",
    "        strikes=strikes,\n",
    "        expiries=expiries,\n",
    "        spots=spots,\n",
    "        discount_rates=discount_rates,\n",
    "        dividend_rates=dividend_rates,\n",
    "        is_call_options=is_call_options,\n",
    "        dtype=dtype)\n",
    "\n",
    "print(computed_prices)\n"
   ]
  },
  {
   "cell_type": "code",
   "execution_count": null,
   "metadata": {},
   "outputs": [],
   "source": []
  }
 ],
 "metadata": {
  "interpreter": {
   "hash": "d4d1e4263499bec80672ea0156c357c1ee493ec2b1c70f0acce89fc37c4a6abe"
  },
  "kernelspec": {
   "display_name": "Python 3.7.3 ('base')",
   "language": "python",
   "name": "python3"
  },
  "language_info": {
   "codemirror_mode": {
    "name": "ipython",
    "version": 3
   },
   "file_extension": ".py",
   "mimetype": "text/x-python",
   "name": "python",
   "nbconvert_exporter": "python",
   "pygments_lexer": "ipython3",
   "version": "3.7.3"
  },
  "orig_nbformat": 4
 },
 "nbformat": 4,
 "nbformat_minor": 2
}
