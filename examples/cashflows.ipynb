{
 "cells": [
  {
   "cell_type": "code",
   "execution_count": 1,
   "metadata": {},
   "outputs": [],
   "source": [
    "import numpy as np\n",
    "import jax.numpy as jnp\n",
    "import jax_quant_finance as jqf\n",
    "from jax.config import config\n",
    "config.update(\"jax_enable_x64\", True)"
   ]
  },
  {
   "cell_type": "code",
   "execution_count": 2,
   "metadata": {},
   "outputs": [],
   "source": [
    "dtype = jnp.float64"
   ]
  },
  {
   "cell_type": "code",
   "execution_count": 4,
   "metadata": {},
   "outputs": [
    {
     "name": "stdout",
     "output_type": "stream",
     "text": [
      "[995.50315587]\n"
     ]
    }
   ],
   "source": [
    "# pv_from_yields_no_group\n",
    "yield_rate = 0.04\n",
    "coupon_rate = 0.04\n",
    "# Fifteen year bond with semi-annual coupons.\n",
    "cashflows = np.array(\n",
    "    [coupon_rate * 500] * 29 + [1000 + coupon_rate * 500], dtype=dtype)\n",
    "times = np.linspace(0.5, 15, num=30).astype(dtype)\n",
    "actual_pv = jqf.rates.analytics.cashflows.pv_from_yields(\n",
    "        cashflows=cashflows, times=times, yields=yield_rate, dtype=dtype)\n",
    "print(actual_pv)"
   ]
  },
  {
   "cell_type": "code",
   "execution_count": 7,
   "metadata": {},
   "outputs": [
    {
     "name": "stdout",
     "output_type": "stream",
     "text": [
      "[ 942.71187528 1025.77773002]\n"
     ]
    }
   ],
   "source": [
    "# pv_from_yields_grouped\n",
    "\n",
    "yield_rates = [0.07, 0.05]\n",
    "# 2 and 3 year bonds with 1000 face value and 4%, 6% semi-annual coupons.\n",
    "cashflows = np.array([20, 20, 20, 1020, 30, 30, 30, 30, 30, 1030],\n",
    "                        dtype=dtype)\n",
    "times = np.array([0.5, 1, 1.5, 2, 0.5, 1, 1.50, 2, 2.5, 3], dtype=dtype)\n",
    "groups = np.array([0] * 4 + [1] * 6)\n",
    "actual_pvs = jqf.rates.analytics.cashflows.pv_from_yields(\n",
    "        cashflows, times, yield_rates, groups=groups, dtype=dtype)\n",
    "\n",
    "print(actual_pvs)"
   ]
  },
  {
   "cell_type": "code",
   "execution_count": 8,
   "metadata": {},
   "outputs": [
    {
     "name": "stdout",
     "output_type": "stream",
     "text": [
      "[0.04]\n"
     ]
    }
   ],
   "source": [
    "# yields_from_pvs_no_group\n",
    "coupon_rate = 0.04\n",
    "# Fifteen year bond with semi-annual coupons.\n",
    "cashflows = np.array(\n",
    "    [coupon_rate * 500] * 29 + [1000 + coupon_rate * 500], dtype=dtype)\n",
    "pv = 995.50315587\n",
    "times = np.linspace(0.5, 15, num=30).astype(dtype)\n",
    "actual_yield_rate = jqf.rates.analytics.cashflows.yields_from_pv(\n",
    "        cashflows, times, [pv], dtype=dtype)\n",
    "\n",
    "print(actual_yield_rate)"
   ]
  },
  {
   "cell_type": "code",
   "execution_count": 9,
   "metadata": {},
   "outputs": [
    {
     "name": "stdout",
     "output_type": "stream",
     "text": [
      "[0.07 0.05]\n"
     ]
    }
   ],
   "source": [
    "# yields_from_pv_grouped\n",
    "# 2 and 3 year bonds with 1000 face value and 4%, 6% semi-annual coupons.\n",
    "cashflows = np.array([20, 20, 20, 1020, 30, 30, 30, 30, 30, 1030],\n",
    "                        dtype=dtype)\n",
    "times = np.array([0.5, 1, 1.5, 2, 0.5, 1, 1.50, 2, 2.5, 3], dtype=dtype)\n",
    "groups = np.array([0] * 4 + [1] * 6)\n",
    "pvs = np.array([942.71187528177757, 1025.7777300221542])\n",
    "actual_yield_rates = jqf.rates.analytics.cashflows.yields_from_pv(\n",
    "        cashflows, times, pvs, groups=groups, dtype=dtype)\n",
    "\n",
    "print(actual_yield_rates)"
   ]
  }
 ],
 "metadata": {
  "interpreter": {
   "hash": "d4d1e4263499bec80672ea0156c357c1ee493ec2b1c70f0acce89fc37c4a6abe"
  },
  "kernelspec": {
   "display_name": "Python 3.7.3 ('base')",
   "language": "python",
   "name": "python3"
  },
  "language_info": {
   "codemirror_mode": {
    "name": "ipython",
    "version": 3
   },
   "file_extension": ".py",
   "mimetype": "text/x-python",
   "name": "python",
   "nbconvert_exporter": "python",
   "pygments_lexer": "ipython3",
   "version": "3.7.3"
  },
  "orig_nbformat": 4
 },
 "nbformat": 4,
 "nbformat_minor": 2
}
