{
 "cells": [
  {
   "cell_type": "code",
   "execution_count": 5,
   "metadata": {},
   "outputs": [],
   "source": [
    "import numpy as np\n",
    "import jax.numpy as jnp\n",
    "from jax import jit, jvp, default_backend, jacfwd\n",
    "\n",
    "from jax.config import config\n",
    "config.update(\"jax_enable_x64\", True)\n",
    "# We use GPU as the default backend.\n",
    "# If you want to use cpu as backend, uncomment the following line.\n",
    "# config.update(\"jax_platform_name\", \"cpu\")\n",
    "\n",
    "from jax_quant_finance.black_scholes.vanilla_prices import option_price"
   ]
  },
  {
   "cell_type": "markdown",
   "metadata": {},
   "source": [
    "Check backend (cpu/gpu/tpu):"
   ]
  },
  {
   "cell_type": "code",
   "execution_count": 3,
   "metadata": {},
   "outputs": [
    {
     "name": "stdout",
     "output_type": "stream",
     "text": [
      "we are running on gpu\n"
     ]
    }
   ],
   "source": [
    "print(f\"we are running on {default_backend()}\")"
   ]
  },
  {
   "cell_type": "code",
   "execution_count": 6,
   "metadata": {},
   "outputs": [
    {
     "name": "stdout",
     "output_type": "stream",
     "text": [
      "prices: \n",
      "[118.55230522  74.32285307  51.74306127] \n",
      "\n",
      "true delta: \n",
      " [0.97072164 0.8623811  0.73887319] \n",
      "\n",
      "true vega: \n",
      " [ 46.67659297 153.994105   227.5617336 ]\n"
     ]
    }
   ],
   "source": [
    "dtype = jnp.float64\n",
    "expiries = jnp.array([1.0], dtype=dtype)\n",
    "strikes = jnp.array([600, 650, 680], dtype=dtype)\n",
    "sigma = jnp.array(0.1, dtype=dtype)\n",
    "spot = jnp.array(700, dtype=dtype)\n",
    "rate = jnp.array(0.03, dtype=dtype)\n",
    "\n",
    "jit_option_price_fn = jit(option_price)\n",
    "\n",
    "true_delta_fn = lambda spot : jit_option_price_fn(volatilities=sigma,\n",
    "                                            strikes=strikes,\n",
    "                                            spots=spot,\n",
    "                                            expiries=expiries,\n",
    "                                            discount_rates=rate)\n",
    "\n",
    "true_vega_fn = lambda sigma : jit_option_price_fn(volatilities=sigma,\n",
    "                               strikes=strikes,\n",
    "                               spots=spot,\n",
    "                               expiries=expiries,\n",
    "                               discount_rates=rate)\n",
    "\n",
    "prices, delta = jvp(true_delta_fn, (spot, ), (jnp.ones_like(spot), ))\n",
    "prices, vega = jvp(true_vega_fn, (sigma, ), (jnp.ones_like(sigma), ))\n",
    "\n",
    "print(f\"prices: \\n{prices} \\n\")\n",
    "print(f\"true delta: \\n {delta} \\n\")\n",
    "print(f\"true vega: \\n {vega}\")"
   ]
  },
  {
   "cell_type": "code",
   "execution_count": null,
   "metadata": {},
   "outputs": [],
   "source": [
    "\n",
    "jacfwd(jit_option_price_fn, (0, 2))(sigma, )"
   ]
  }
 ],
 "metadata": {
  "interpreter": {
   "hash": "d4d1e4263499bec80672ea0156c357c1ee493ec2b1c70f0acce89fc37c4a6abe"
  },
  "kernelspec": {
   "display_name": "Python 3.7.3 ('base')",
   "language": "python",
   "name": "python3"
  },
  "language_info": {
   "codemirror_mode": {
    "name": "ipython",
    "version": 3
   },
   "file_extension": ".py",
   "mimetype": "text/x-python",
   "name": "python",
   "nbconvert_exporter": "python",
   "pygments_lexer": "ipython3",
   "version": "3.7.3"
  },
  "orig_nbformat": 4
 },
 "nbformat": 4,
 "nbformat_minor": 2
}
